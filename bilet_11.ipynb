{
  "nbformat": 4,
  "nbformat_minor": 0,
  "metadata": {
    "colab": {
      "provenance": [],
      "authorship_tag": "ABX9TyMufkosOujqM/18FqxvTITA",
      "include_colab_link": true
    },
    "kernelspec": {
      "name": "python3",
      "display_name": "Python 3"
    },
    "language_info": {
      "name": "python"
    }
  },
  "cells": [
    {
      "cell_type": "markdown",
      "metadata": {
        "id": "view-in-github",
        "colab_type": "text"
      },
      "source": [
        "<a href=\"https://colab.research.google.com/github/lsemochkina/exam_160124/blob/main/bilet_11.ipynb\" target=\"_parent\"><img src=\"https://colab.research.google.com/assets/colab-badge.svg\" alt=\"Open In Colab\"/></a>"
      ]
    },
    {
      "cell_type": "code",
      "execution_count": null,
      "metadata": {
        "id": "ngYZ4ptdZ2sJ"
      },
      "outputs": [],
      "source": [
        "import numpy as np\n",
        "n = int(input())\n",
        "for i in range (0,n):\n",
        "  row = input().split(' ')\n",
        "  A = np.zeros((n,n))\n",
        "  for j in range (0,n):\n",
        "    A [i, j] = int(row[j])\n",
        "d = np.linalg.matrix_power(A, -3)\n",
        "print(d)"
      ]
    }
  ]
}